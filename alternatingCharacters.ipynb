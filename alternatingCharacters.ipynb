{
  "nbformat": 4,
  "nbformat_minor": 0,
  "metadata": {
    "colab": {
      "name": "alternatingCharacters.ipynb",
      "provenance": [],
      "authorship_tag": "ABX9TyP72ruJUptEXtNWbJ+FRuc8",
      "include_colab_link": true
    },
    "kernelspec": {
      "name": "python3",
      "display_name": "Python 3"
    },
    "language_info": {
      "name": "python"
    }
  },
  "cells": [
    {
      "cell_type": "markdown",
      "metadata": {
        "id": "view-in-github",
        "colab_type": "text"
      },
      "source": [
        "<a href=\"https://colab.research.google.com/github/pradeeprises/Subscene-Subtitle-Grabber/blob/master/alternatingCharacters.ipynb\" target=\"_parent\"><img src=\"https://colab.research.google.com/assets/colab-badge.svg\" alt=\"Open In Colab\"/></a>"
      ]
    },
    {
      "cell_type": "code",
      "metadata": {
        "colab": {
          "base_uri": "https://localhost:8080/"
        },
        "id": "W-EeTVyTCYGp",
        "outputId": "fb425f19-81cb-424a-fe34-42144f421c57"
      },
      "source": [
        "a = \"AAAA\"\n",
        "x = \"Dummy\"\n",
        "j=0\n",
        "count=0\n",
        "for i in a:\n",
        "  if x == a[j]:\n",
        "    count=count+1\n",
        "  x=i\n",
        "  j=j+1\n",
        "\n",
        "print(count)"
      ],
      "execution_count": 57,
      "outputs": [
        {
          "output_type": "stream",
          "text": [
            "3\n"
          ],
          "name": "stdout"
        }
      ]
    }
  ]
}